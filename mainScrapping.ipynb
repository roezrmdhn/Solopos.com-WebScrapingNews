{
 "cells": [
  {
   "cell_type": "markdown",
   "metadata": {
    "id": "oyUWMm3lPTiz"
   },
   "source": [
    "# Scraping Web Solopos\n",
    "Judul Berita, Penulis, Tahun Terbit dan Isi paragraf pertama"
   ]
  },
  {
   "cell_type": "code",
   "execution_count": 86,
   "metadata": {},
   "outputs": [],
   "source": [
    "import csv\n",
    "import requests\n",
    "from bs4 import BeautifulSoup\n",
    "import re\n",
    "\n",
    "# BUAT DULU ARRAY NYA\n",
    "titles = []\n",
    "contents = []\n",
    "creators = []\n",
    "years = []\n",
    "\n",
    "# List link berita Ekonomi\n",
    "links = [\n",
    "    'https://bisnis.solopos.com/setelah-pandemi-covid-19-sektor-ritel-soloraya-harus-berhadapan-dengan-olshop-1664138?utm_source=terkini_desktop&_gl=1*1c3qz67*_ga*OTUwNjc3NzUzLjE2ODcyNzYzMDE.*_ga_N48JD3Q0D2*MTY4NzI3NjMwMS4xLjEuMTY4NzI3NjMxMC41MS4wLjA.',\n",
    "    'https://jateng.solopos.com/jateng-beri-kuota-3-persen-untuk-anak-tidak-sekolah-dalam-ppdb-2023-1664110?utm_source=terkini_desktop&_gl=1*rf22e0*_ga*OTUwNjc3NzUzLjE2ODcyNzYzMDE.*_ga_N48JD3Q0D2*MTY4NzI3NjMwMS4xLjEuMTY4NzI3NjMyOS4zMi4wLjA.',\n",
    "    'https://bisnis.solopos.com/pabrik-sepatu-adidas-akan-ekspansi-ke-sragen-diprediksi-butuh-20-000an-pekerja-1664076?utm_source=terkini_desktop&_gl=1*1xzr89q*_ga*OTUwNjc3NzUzLjE2ODcyNzYzMDE.*_ga_N48JD3Q0D2*MTY4NzI3NjMwMS4xLjEuMTY4NzI3NjMzNy4yNC4wLjA.',\n",
    "    'https://bisnis.solopos.com/penggunaan-tenaga-bule-sebagai-pengawas-proyek-ikn-dikritik-1664206?utm_source=terkini_desktop&_gl=1*1f3lepb*_ga*OTUwNjc3NzUzLjE2ODcyNzYzMDE.*_ga_N48JD3Q0D2*MTY4NzI3NjMwMS4xLjEuMTY4NzI3NjM0My4xOC4wLjA.',\n",
    "    'https://bisnis.solopos.com/terbitkan-aturan-baru-jokowi-ingin-swasembada-gula-paling-lambat-2028-1664158?utm_source=terkini_desktop&_gl=1*oanjyp*_ga*OTUwNjc3NzUzLjE2ODcyNzYzMDE.*_ga_N48JD3Q0D2*MTY4NzI3NjMwMS4xLjEuMTY4NzI3NzYzNC42MC4wLjA.'\n",
    "]\n",
    "\n",
    "\n",
    "# Looping untuk setiap link\n",
    "for link in links:\n",
    "    # Membuat GET request\n",
    "    r = requests.get(link)\n",
    "\n",
    "    # Parsing HTML (JUDUL berita)\n",
    "    soup = BeautifulSoup(r.content, 'html.parser')\n",
    "    judul = soup.find('h1', class_='post-title title-lg title-only')\n",
    "    judul_simpan = re.sub(r'[\"\\']', '', judul.text.strip())  # Menghilangkan tanda petik ganda/tunggal\n",
    "\n",
    "    # Parsing HTML (PENULIS berita)\n",
    "    p = soup.find('ul', class_='post-meta')\n",
    "    penulis = p.find_all('a')\n",
    "    if len(penulis) >= 2:\n",
    "        penulis_simpan = re.sub(r'[\"\\']', '', penulis[1].text)  # Menghilangkan tanda petik ganda/tunggal\n",
    "    else:\n",
    "        penulis_simpan = ''\n",
    "\n",
    "    # Parsing HTML (TAHUN berita)\n",
    "    t = soup.find('ul', class_='post-meta')\n",
    "    tahun = t.find_all('li')\n",
    "    if len(tahun) >= 2:\n",
    "        tahun_simpan = re.sub(r'[\"\\']', '', tahun[1].text)  # Menghilangkan tanda petik ganda/tunggal\n",
    "    else:\n",
    "        tahun_simpan = ''\n",
    "\n",
    "    # Parsing HTML (ISI berita)\n",
    "    s = soup.find('div', class_='post-content-area')\n",
    "    isi = s.find_all('p')\n",
    "    if len(isi) >= 2:\n",
    "        isi_simpan = re.sub(r'[\"\\']', '', isi[7].text)  # Menghilangkan tanda petik ganda/tunggal\n",
    "    else:\n",
    "        isi_simpan = ''\n",
    "\n",
    "    # Menambahkan data ke array\n",
    "    titles.append(judul_simpan)\n",
    "    creators.append(penulis_simpan)\n",
    "    years.append(tahun_simpan)\n",
    "    contents.append(isi_simpan)\n",
    "\n",
    "# Membersihkan tanda koma pada data\n",
    "titles_cleaned = [re.sub(r',', '', title) for title in titles]\n",
    "creators_cleaned = [re.sub(r',', '', creator) for creator in creators]\n",
    "years_cleaned = [re.sub(r',', '', year) for year in years]\n",
    "contents_cleaned = [re.sub(r',', '', content) for content in contents]\n",
    "\n",
    "# Menyimpan data dalam format CSV\n",
    "with open('scraping-solopos.csv', 'w', newline='', encoding='utf-8') as file:\n",
    "    writer = csv.writer(file)\n",
    "    writer.writerow(['Judul', 'Penulis', 'Tahun', 'Isi'])  # Menulis header kolom\n",
    "    for i in range(len(links)):\n",
    "        writer.writerow([titles_cleaned[i], creators_cleaned[i], years_cleaned[i], contents_cleaned[i]])  # Menulis baris data\n"
   ]
  },
  {
   "cell_type": "code",
   "execution_count": 85,
   "metadata": {},
   "outputs": [
    {
     "name": "stdout",
     "output_type": "stream",
     "text": [
      "Link ke- 1\n",
      "Judul: Setelah Pandemi Covid-19, Sektor Ritel Soloraya Harus Berhadapan dengan Olshop\n",
      "Penulis: Galih Aprilia Wibowo\n",
      "Tahun:  Selasa, 20 Juni 2023 - 21:52 WIB\n",
      "Isi: Pada 2020 lalu, industri ritel sudah terpuruk karena pandemi Covid-19. Liliek menilai walaupun pusat perbelanjaan atau mal sudah terbuka, masyarakat masih belum sepenuhnya berani untuk memasuki mal.\n",
      "\n",
      "Link ke- 2\n",
      "Judul: Jateng Beri Kuota 3 Persen untuk Anak Tidak Sekolah dalam PPDB 2023\n",
      "Penulis: Newswire\n",
      "Tahun:  Selasa, 20 Juni 2023 - 21:37 WIB\n",
      "Isi: Pemprov Jateng mengalokasikan kuota PPDB bagi anak tidak sekolah yang terdaftar dalam Sistem Informasi Kesejahteraan Sosial Dinas Sosial Jateng (SIKS-DJ). Anak tidak sekolah yang belum masuk dalam SIKS-DJ bisa memanfaatkan kuota PPDB dengan melampirkan surat keterangan dari desa/kelurahan yang diketahui oleh camat dalam berkas pendaftaran.\n",
      "\n",
      "Link ke- 3\n",
      "Judul: Pabrik Sepatu Adidas akan Ekspansi ke Sragen, Diprediksi Butuh 20.000an Pekerja\n",
      "Penulis: Maymunah Nasution\n",
      "Tahun:  Selasa, 20 Juni 2023 - 21:00 WIB\n",
      "Isi: Suparno menambahkan, masih ada beberapa investasi skala kecil juga masuk ke Sragen tetapi dia tidak begitu hapal dari mana saja.\n",
      "\n",
      "Link ke- 4\n",
      "Judul: Penggunaan Tenaga Bule sebagai Pengawas Proyek IKN Dikritik\n",
      "Penulis: Afiffah Rahmah Nurdifa\n",
      "Tahun:  Selasa, 20 Juni 2023 - 22:42 WIB\n",
      "Isi: Dia mengusulkan untuk penyediaan pusat pendidikan dan pelatihan (diklat) untuk para pekerja di IKN agar menciptakan sumber daya manusia yang berkelanjutan. “Di Bina Kontruski barangkali bisa membangun camp atau sekolahnya mempersiapkan SDM supaya setiap kebutuhan yang diperlukan untuk pembangunan dan percepatan di IKN bisa dipercepat,” ujarnya.\n",
      "\n",
      "Link ke- 5\n",
      "Judul: Terbitkan Aturan Baru, Jokowi Ingin Swasembada Gula Paling Lambat 2028\n",
      "Penulis: Ni Luh Anggela\n",
      "Tahun:  Selasa, 20 Juni 2023 - 21:59 WIB\n",
      "Isi: Jokowi juga menunjuk menteri-menteri lain seperti Menteri Pertanian, Menteri Keuangan, Menteri Pekerjaan Umum dan Perumahan Rakyat (PUPR), dan Menteri Investasi/Kepala Badan Koordinasi Penanaman Modal (BKPM). Lalu, Menteri Agraria dan Tata Ruang/Kepala Badan Pertanahan Nasional (ATR/BPN), Menteri Perindustrian, Menteri Energi dan Sumber Daya Mineral (ESDM), Menteri Perdagangan, dan Menteri Badan Usaha Milik Negara (BUMN).\n",
      "\n"
     ]
    }
   ],
   "source": [
    "# Mencetak data dari setiap link\n",
    "for i in range(len(links)):\n",
    "    print(\"Link ke-\", i+1)\n",
    "    print(\"Judul:\", titles[i])\n",
    "    print(\"Penulis:\", creators[i])\n",
    "    print(\"Tahun:\", years[i])\n",
    "    print(\"Isi:\", contents[i])\n",
    "    print()"
   ]
  },
  {
   "cell_type": "code",
   "execution_count": null,
   "metadata": {},
   "outputs": [],
   "source": []
  }
 ],
 "metadata": {
  "colab": {
   "provenance": []
  },
  "kernelspec": {
   "display_name": "Python 3 (ipykernel)",
   "language": "python",
   "name": "python3"
  },
  "language_info": {
   "codemirror_mode": {
    "name": "ipython",
    "version": 3
   },
   "file_extension": ".py",
   "mimetype": "text/x-python",
   "name": "python",
   "nbconvert_exporter": "python",
   "pygments_lexer": "ipython3",
   "version": "3.10.9"
  }
 },
 "nbformat": 4,
 "nbformat_minor": 1
}
